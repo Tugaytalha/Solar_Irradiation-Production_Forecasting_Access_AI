{
 "cells": [
  {
   "cell_type": "markdown",
   "id": "fde1f3647c37370e",
   "metadata": {
    "collapsed": false
   },
   "source": [
    "### Import libraries"
   ]
  },
  {
   "cell_type": "code",
   "execution_count": null,
   "id": "initial_id",
   "metadata": {
    "ExecuteTime": {
     "start_time": "2024-10-07T14:11:32.710039900Z"
    },
    "collapsed": true,
    "jupyter": {
     "outputs_hidden": true
    }
   },
   "outputs": [],
   "source": [
    "import pandas as pd\n",
    "from sklearn.model_selection import train_test_split\n",
    "from sklearn.preprocessing import StandardScaler\n",
    "from xgboost import XGBRegressor\n",
    "from sklearn.metrics import mean_squared_error, r2_score\n",
    "import joblib\n",
    "import matplotlib.pyplot as plt"
   ]
  },
  {
   "cell_type": "markdown",
   "id": "cbd513551bb6e5ab",
   "metadata": {
    "collapsed": false
   },
   "source": [
    "### Load dataset"
   ]
  },
  {
   "cell_type": "code",
   "execution_count": 5,
   "id": "d5204693abe02977",
   "metadata": {
    "ExecuteTime": {
     "end_time": "2024-10-07T14:01:25.086752200Z",
     "start_time": "2024-10-07T14:01:24.789675Z"
    },
    "collapsed": false
   },
   "outputs": [],
   "source": [
    "file_path = \"./data/1991-2005/monthly/solar_dataset.csv\"\n",
    "data = pd.read_csv(file_path)"
   ]
  },
  {
   "cell_type": "markdown",
   "id": "b3dbc69032218e56",
   "metadata": {
    "collapsed": false
   },
   "source": [
    "### Data Preprocessing"
   ]
  },
  {
   "cell_type": "code",
   "execution_count": 6,
   "id": "43dd9b622e91638d",
   "metadata": {
    "ExecuteTime": {
     "end_time": "2024-10-07T14:01:28.806190400Z",
     "start_time": "2024-10-07T14:01:25.090749700Z"
    },
    "collapsed": false
   },
   "outputs": [
    {
     "name": "stdout",
     "output_type": "stream",
     "text": [
      "Parse progress: |████████████████████████████████████████████████████████████████| (done) 100%\n"
     ]
    }
   ],
   "source": [
    "# # Convert Year and Month into a single feature 'YearMonth'\n",
    "# data['YearMonth'] = data['Year'].astype(str) + data['Month'].astype(str).str.zfill(2)\n",
    "# data['YearMonth'] = pd.to_datetime(data['YearMonth'], format='%Y%m')\n",
    "# \n",
    "# # Drop original Year and Month columns\n",
    "# data = data.drop(['Year', 'Month'], axis=1)\n",
    "\n",
    "# Feature Scaling for coordinate and solar irradiation inputs\n",
    "features = ['Azimuth (deg)', 'Longitude', 'Elevation', 'Latitude', 'Year', 'Month']\n",
    "target = 'Merged Glo (Wh/m^2)'\n",
    "\n",
    "X = data[features]\n",
    "y = data[target]\n",
    "\n",
    "# Normalize/Standardize the coordinate data\n",
    "scaler = StandardScaler()\n",
    "X[['Azimuth (deg)', 'Longitude', 'Elevation', 'Latitude']] = scaler.fit_transform(X[['Azimuth (deg)', 'Longitude', 'Elevation', 'Latitude']])\n"
   ]
  },
  {
   "cell_type": "markdown",
   "id": "2e173ceb7279eb0c",
   "metadata": {
    "collapsed": false
   },
   "source": [
    "### Train Test Validation Split"
   ]
  },
  {
   "cell_type": "code",
   "execution_count": 7,
   "id": "4c4db6d586d94587",
   "metadata": {
    "ExecuteTime": {
     "end_time": "2024-10-07T14:01:29.587898100Z",
     "start_time": "2024-10-07T14:01:28.806190400Z"
    },
    "collapsed": false
   },
   "outputs": [],
   "source": [
    "# Train-Validation-Test Split (60% Train, 20% Validation, 20% Test)\n",
    "X_train, X_temp, y_train, y_temp = train_test_split(X, y, test_size=0.3, random_state=42)\n",
    "X_val, X_test, y_val, y_test = train_test_split(X_temp, y_temp, test_size=0.6, random_state=42)\n"
   ]
  },
  {
   "cell_type": "markdown",
   "id": "bb2a258dc7b56ef7",
   "metadata": {
    "collapsed": false
   },
   "source": [
    "### Model Training with XGBoost"
   ]
  },
  {
   "cell_type": "code",
   "execution_count": null,
   "id": "fe7fd31c689d9d23",
   "metadata": {
    "collapsed": false
   },
   "outputs": [],
   "source": [
    "xgboost_model = XGBRegressor(n_estimators=100, learning_rate=0.1, max_depth=6, random_state=42)\n",
    "xgboost_model.fit(X_train, y_train, eval_set=[(X_val, y_val)], early_stopping_rounds=10, verbose=True)"
   ]
  },
  {
   "cell_type": "markdown",
   "id": "18af83579501e932",
   "metadata": {
    "collapsed": false
   },
   "source": [
    "### Prediction and Evaluation of the XGBoost Model"
   ]
  },
  {
   "cell_type": "code",
   "execution_count": 9,
   "id": "1fd83f28dd886c92",
   "metadata": {
    "ExecuteTime": {
     "end_time": "2024-10-07T14:11:32.353593500Z",
     "start_time": "2024-10-07T14:11:31.552446900Z"
    },
    "collapsed": false
   },
   "outputs": [
    {
     "name": "stdout",
     "output_type": "stream",
     "text": [
      "model_id                                                    rmse          mse      mae    rmsle    mean_residual_deviance\n",
      "StackedEnsemble_BestOfFamily_5_AutoML_1_20241007_170129  11532.7  1.33004e+08  6896.7       nan               1.33004e+08\n",
      "StackedEnsemble_AllModels_3_AutoML_1_20241007_170129     12744.9  1.62433e+08  7418.34      nan               1.62433e+08\n",
      "StackedEnsemble_AllModels_4_AutoML_1_20241007_170129     12745.4  1.62446e+08  7418.17      nan               1.62446e+08\n",
      "StackedEnsemble_BestOfFamily_4_AutoML_1_20241007_170129  12800.4  1.63851e+08  7333.92      nan               1.63851e+08\n",
      "GBM_grid_1_AutoML_1_20241007_170129_model_11             12848.3  1.65078e+08  7327.33      nan               1.65078e+08\n",
      "GBM_grid_1_AutoML_1_20241007_170129_model_9              14487.9  2.099e+08    8211.98      nan               2.099e+08\n",
      "GBM_grid_1_AutoML_1_20241007_170129_model_5              15016.7  2.25501e+08  9013.27      nan               2.25501e+08\n",
      "StackedEnsemble_BestOfFamily_2_AutoML_1_20241007_170129  15157.6  2.29753e+08  8692.45      nan               2.29753e+08\n",
      "StackedEnsemble_BestOfFamily_3_AutoML_1_20241007_170129  15157.7  2.29757e+08  8692.56      nan               2.29757e+08\n",
      "StackedEnsemble_AllModels_1_AutoML_1_20241007_170129     15157.9  2.29761e+08  8692.38      nan               2.29761e+08\n",
      "[10 rows x 6 columns]\n",
      "\n",
      "stackedensemble prediction progress: |███████████████████████████████████████████| (done) 100%\n",
      "ModelMetricsRegression: stackedensemble\n",
      "** Reported on test data. **\n",
      "\n",
      "MSE: 133104079.78482568\n",
      "RMSE: 11537.074143162368\n",
      "MAE: 6619.867309264724\n",
      "RMSLE: NaN\n",
      "Mean Residual Deviance: 133104079.78482568\n"
     ]
    }
   ],
   "source": [
    "# Prediction and Evaluation on Test Data\n",
    "y_pred = xgboost_model.predict(X_test)\n",
    "\n",
    "# Evaluation Metrics on Test Data\n",
    "mse_test = mean_squared_error(y_test, y_pred)\n",
    "r2_test = r2_score(y_test, y_pred)\n",
    "\n",
    "print(f\"Mean Squared Error on Test Data: {mse_test}\")\n",
    "print(f\"R-squared on Test Data: {r2_test}\")"
   ]
  },
  {
   "cell_type": "markdown",
   "id": "b382ba0e777ab40d",
   "metadata": {
    "collapsed": false
   },
   "source": [
    "### Retrain the XGboost model on the train+test dataset "
   ]
  },
  {
   "cell_type": "code",
   "execution_count": null,
   "id": "7589fdaea222fe8c",
   "metadata": {
    "collapsed": false
   },
   "outputs": [],
   "source": [
    "X_train_full = pd.concat([X_train, X_test])\n",
    "y_train_full = pd.concat([y_train, y_test])\n",
    "xgboost_model.fit(X_train_full, y_train_full)"
   ]
  },
  {
   "cell_type": "markdown",
   "id": "46694e3c2e4a25b1",
   "metadata": {
    "collapsed": false
   },
   "source": [
    "### Save the trained model"
   ]
  },
  {
   "cell_type": "code",
   "execution_count": null,
   "id": "f765cedb922a167a",
   "metadata": {
    "ExecuteTime": {
     "start_time": "2024-10-07T14:11:32.700292800Z"
    },
    "collapsed": false
   },
   "outputs": [],
   "source": [
    "model_filename = 'xgboost_solar_model.pkl'\n",
    "joblib.dump(xgboost_model, model_filename)\n",
    "print(f\"Model saved to {model_filename}\")"
   ]
  },
  {
   "cell_type": "markdown",
   "id": "de3ef1c1d70b03d4",
   "metadata": {
    "collapsed": false
   },
   "source": [
    "### Plotting Actual vs Predicted"
   ]
  },
  {
   "cell_type": "code",
   "execution_count": null,
   "id": "24d8f9e59d3d55ed",
   "metadata": {
    "ExecuteTime": {
     "end_time": "2024-10-07T14:11:32.739038300Z",
     "start_time": "2024-10-07T14:11:32.704042300Z"
    },
    "collapsed": false
   },
   "outputs": [],
   "source": [
    "# Plotting Actual vs Predicted on Test Data\n",
    "plt.figure(figsize=(10, 6))\n",
    "plt.plot(y_test.values, label='Actual')\n",
    "plt.plot(y_pred, label='Predicted', linestyle='--')\n",
    "plt.legend()\n",
    "plt.xlabel('Samples')\n",
    "plt.ylabel('Merged Glo (Wh/m^2)')\n",
    "plt.title('Actual vs Predicted Solar Irradiation (Test Data)')\n",
    "plt.show()"
   ]
  },
  {
   "cell_type": "code",
   "execution_count": null,
   "id": "3ed80a612793748c",
   "metadata": {
    "ExecuteTime": {
     "start_time": "2024-10-07T14:11:32.708041900Z"
    },
    "collapsed": false
   },
   "outputs": [],
   "source": [
    "#print maximum and minimum predicted values\n",
    "print(\"Maximum predicted value:\", max(y_pred))\n",
    "print(\"Minimum predicted value:\", min(y_pred))"
   ]
  },
  {
   "cell_type": "code",
   "execution_count": null,
   "outputs": [],
   "source": [],
   "metadata": {
    "collapsed": false
   },
   "id": "dab28bce346bc9dd"
  }
 ],
 "metadata": {
  "kernelspec": {
   "display_name": "Python 3 (ipykernel)",
   "language": "python",
   "name": "python3"
  },
  "language_info": {
   "codemirror_mode": {
    "name": "ipython",
    "version": 3
   },
   "file_extension": ".py",
   "mimetype": "text/x-python",
   "name": "python",
   "nbconvert_exporter": "python",
   "pygments_lexer": "ipython3",
   "version": "3.9.18"
  }
 },
 "nbformat": 4,
 "nbformat_minor": 5
}
